{
 "cells": [
  {
   "cell_type": "code",
   "execution_count": 6,
   "metadata": {},
   "outputs": [
    {
     "name": "stdout",
     "output_type": "stream",
     "text": [
      "equivalent_xsd = WindowsPath('schemas/conn/SignatureService_V7_5_6.xsd') exists\n"
     ]
    }
   ],
   "source": [
    "from pathlib import Path\n",
    "\n",
    "wsdlpath = Path(\"./schemas/conn/SignatureService_V7_5_6.wsdl\")\n",
    "\n",
    "equivalent_xsd = wsdlpath.with_suffix(\".xsd\")\n",
    "\n",
    "if equivalent_xsd.exists(): \n",
    "    print(f\"{equivalent_xsd = } exists\")\n",
    "\n",
    "def fix_duplicate_filename(wsdlpath: Path) -> None:\n",
    "    equivalent_xsd_path = wsdlpath.with_suffix(\".xsd\")\n",
    "    if not equivalent_xsd_path.exists(): \n",
    "        return\n",
    "    \n",
    "    new_xsd_path = equivalent_xsd_path.with_suffix(\"_xsd.xsd\")\n",
    "    new_xsd_path.write_bytes(equivalent_xsd_path.read_bytes())\n",
    "\n",
    "    equivalent_xsd_path.unlink()\n",
    "\n",
    "    new_wsdl_content = wsdlpath.read_text().replace(equivalent_xsd_path.name, new_xsd_path.name)\n",
    "    wsdlpath.write_text(new_wsdl_content)\n"
   ]
  }
 ],
 "metadata": {
  "kernelspec": {
   "display_name": "Python 3",
   "language": "python",
   "name": "python3"
  },
  "language_info": {
   "codemirror_mode": {
    "name": "ipython",
    "version": 3
   },
   "file_extension": ".py",
   "mimetype": "text/x-python",
   "name": "python",
   "nbconvert_exporter": "python",
   "pygments_lexer": "ipython3",
   "version": "3.11.1"
  }
 },
 "nbformat": 4,
 "nbformat_minor": 2
}
